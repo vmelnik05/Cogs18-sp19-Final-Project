{
 "cells": [
  {
   "cell_type": "markdown",
   "metadata": {},
   "source": [
    "For my project I chose to make a player vs player chess game that uses a graphical user interface. To make it a little more unique, I also wanted to add a few critical game positions from professional games that the users can practice.\n",
    "\n",
    "Here is the list of features contained in the final program:\n",
    "\n",
    "* Movement disabled for pieces with no legal moves\n",
    "* King highlighted orange when in check\n",
    "* King highlighted light pink when check mated\n",
    "* All movement disabled when in stale mate or check mate\n",
    "* Castling implemented\n",
    "* En Passant implemented\n",
    "* Board Reset Implemented\n",
    "* Critical junctures from professional games available for practice\n",
    "* Easy testing of chess moves with the use of a button\n",
    "\n",
    "Run my_chess_script.py in the modules_and_script folder to test the game.\n",
    "\n",
    "GitHub: https://github.com/vmelnik05/Cogs18-sp19-Final-Project"
   ]
  },
  {
   "cell_type": "code",
   "execution_count": null,
   "metadata": {},
   "outputs": [],
   "source": []
  }
 ],
 "metadata": {
  "kernelspec": {
   "display_name": "Python 3",
   "language": "python",
   "name": "python3"
  },
  "language_info": {
   "codemirror_mode": {
    "name": "ipython",
    "version": 3
   },
   "file_extension": ".py",
   "mimetype": "text/x-python",
   "name": "python",
   "nbconvert_exporter": "python",
   "pygments_lexer": "ipython3",
   "version": "3.7.3"
  }
 },
 "nbformat": 4,
 "nbformat_minor": 2
}
